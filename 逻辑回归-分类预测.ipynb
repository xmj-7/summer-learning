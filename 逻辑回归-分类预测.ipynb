{
 "cells": [
  {
   "cell_type": "code",
   "execution_count": 3,
   "metadata": {},
   "outputs": [],
   "source": [
    "import numpy as np \n",
    "import pandas as pd \n"
   ]
  },
  {
   "cell_type": "code",
   "execution_count": 4,
   "metadata": {},
   "outputs": [
    {
     "data": {
      "text/html": [
       "<div>\n",
       "<style scoped>\n",
       "    .dataframe tbody tr th:only-of-type {\n",
       "        vertical-align: middle;\n",
       "    }\n",
       "\n",
       "    .dataframe tbody tr th {\n",
       "        vertical-align: top;\n",
       "    }\n",
       "\n",
       "    .dataframe thead th {\n",
       "        text-align: right;\n",
       "    }\n",
       "</style>\n",
       "<table border=\"1\" class=\"dataframe\">\n",
       "  <thead>\n",
       "    <tr style=\"text-align: right;\">\n",
       "      <th></th>\n",
       "      <th>sepallength</th>\n",
       "      <th>sepalwidth</th>\n",
       "      <th>petallength</th>\n",
       "      <th>petalwidth</th>\n",
       "      <th>class</th>\n",
       "    </tr>\n",
       "  </thead>\n",
       "  <tbody>\n",
       "    <tr>\n",
       "      <th>0</th>\n",
       "      <td>5.1</td>\n",
       "      <td>3.5</td>\n",
       "      <td>1.4</td>\n",
       "      <td>0.2</td>\n",
       "      <td>1</td>\n",
       "    </tr>\n",
       "    <tr>\n",
       "      <th>1</th>\n",
       "      <td>4.9</td>\n",
       "      <td>3.0</td>\n",
       "      <td>1.4</td>\n",
       "      <td>0.2</td>\n",
       "      <td>1</td>\n",
       "    </tr>\n",
       "    <tr>\n",
       "      <th>2</th>\n",
       "      <td>4.7</td>\n",
       "      <td>3.2</td>\n",
       "      <td>1.3</td>\n",
       "      <td>0.2</td>\n",
       "      <td>1</td>\n",
       "    </tr>\n",
       "    <tr>\n",
       "      <th>3</th>\n",
       "      <td>4.6</td>\n",
       "      <td>3.1</td>\n",
       "      <td>1.5</td>\n",
       "      <td>0.2</td>\n",
       "      <td>1</td>\n",
       "    </tr>\n",
       "    <tr>\n",
       "      <th>4</th>\n",
       "      <td>5.0</td>\n",
       "      <td>3.6</td>\n",
       "      <td>1.4</td>\n",
       "      <td>0.2</td>\n",
       "      <td>1</td>\n",
       "    </tr>\n",
       "    <tr>\n",
       "      <th>...</th>\n",
       "      <td>...</td>\n",
       "      <td>...</td>\n",
       "      <td>...</td>\n",
       "      <td>...</td>\n",
       "      <td>...</td>\n",
       "    </tr>\n",
       "    <tr>\n",
       "      <th>95</th>\n",
       "      <td>5.7</td>\n",
       "      <td>3.0</td>\n",
       "      <td>4.2</td>\n",
       "      <td>1.2</td>\n",
       "      <td>0</td>\n",
       "    </tr>\n",
       "    <tr>\n",
       "      <th>96</th>\n",
       "      <td>5.7</td>\n",
       "      <td>2.9</td>\n",
       "      <td>4.2</td>\n",
       "      <td>1.3</td>\n",
       "      <td>0</td>\n",
       "    </tr>\n",
       "    <tr>\n",
       "      <th>97</th>\n",
       "      <td>6.2</td>\n",
       "      <td>2.9</td>\n",
       "      <td>4.3</td>\n",
       "      <td>1.3</td>\n",
       "      <td>0</td>\n",
       "    </tr>\n",
       "    <tr>\n",
       "      <th>98</th>\n",
       "      <td>5.1</td>\n",
       "      <td>2.5</td>\n",
       "      <td>3.0</td>\n",
       "      <td>1.1</td>\n",
       "      <td>0</td>\n",
       "    </tr>\n",
       "    <tr>\n",
       "      <th>99</th>\n",
       "      <td>5.7</td>\n",
       "      <td>2.8</td>\n",
       "      <td>4.1</td>\n",
       "      <td>1.3</td>\n",
       "      <td>0</td>\n",
       "    </tr>\n",
       "  </tbody>\n",
       "</table>\n",
       "<p>98 rows × 5 columns</p>\n",
       "</div>"
      ],
      "text/plain": [
       "    sepallength  sepalwidth  petallength  petalwidth  class\n",
       "0           5.1         3.5          1.4         0.2      1\n",
       "1           4.9         3.0          1.4         0.2      1\n",
       "2           4.7         3.2          1.3         0.2      1\n",
       "3           4.6         3.1          1.5         0.2      1\n",
       "4           5.0         3.6          1.4         0.2      1\n",
       "..          ...         ...          ...         ...    ...\n",
       "95          5.7         3.0          4.2         1.2      0\n",
       "96          5.7         2.9          4.2         1.3      0\n",
       "97          6.2         2.9          4.3         1.3      0\n",
       "98          5.1         2.5          3.0         1.1      0\n",
       "99          5.7         2.8          4.1         1.3      0\n",
       "\n",
       "[98 rows x 5 columns]"
      ]
     },
     "execution_count": 4,
     "metadata": {},
     "output_type": "execute_result"
    }
   ],
   "source": [
    "data = pd.read_csv(r\"iris.csv\")\n",
    "#data\n",
    "data.drop(\"id\",axis=1,inplace=True)\n",
    "data.drop_duplicates(inplace=True)\n",
    "#Iris-setosa  Iris-versicolor  Iris-virginica\n",
    "data[\"class\"] = data[\"class\"].map({\"Iris-versicolor\":0,\"Iris-setosa\":1,\"Iris-virginica\":2})\n",
    "#只选取类别为0,1的鸢尾花数据，进行逻辑回归的二分类\n",
    "data = data[data[\"class\"]!=2]\n",
    "data"
   ]
  },
  {
   "cell_type": "code",
   "execution_count": 14,
   "metadata": {},
   "outputs": [],
   "source": [
    "class LogisticRegression:\n",
    "    '''使用python语言来实现逻辑回归算法 '''\n",
    "    def __init__(self,alpha,times):\n",
    "        '''\n",
    "        初始化方法 \n",
    "        Parameters\n",
    "        ----\n",
    "        alpha:float\n",
    "            学习率 \n",
    "        times:int\n",
    "            迭代次数 \n",
    "        '''\n",
    "        self.alpha = alpha\n",
    "        self.times = times\n",
    "    \n",
    "    \n",
    "    def sigmoid(self,z):\n",
    "        '''\n",
    "        sigmoid函数的实现\n",
    "        \n",
    "        \n",
    "        Parameters \n",
    "        ------\n",
    "        z:float\n",
    "            自变量，值为z = w.T*x \n",
    "        \n",
    "        Returns:\n",
    "        ------\n",
    "        p:float,值为[0,1]之间。\n",
    "            返回样本属于类别1的概率值，用来作为结果的预测。\n",
    "            当p(s) >=0.5(z>=0)时，判定为类别1，否则为类别0\n",
    "        '''\n",
    "        return 1.0/(1.0+np.exp(-z))\n",
    "    def fit(self,X,y):\n",
    "        '''根据提供的训练数据对模型进行训练。\n",
    "        \n",
    "        \n",
    "        Parameters \n",
    "        ------\n",
    "        X: 类数组类型，形状为[样本数量，特征数量]\n",
    "            待训练的样本特征属性 \n",
    "        y: 类数组类型 ，形状为[样本数量]\n",
    "        '''\n",
    "        \n",
    "        X = np.asarray(X)\n",
    "        y = np.asarray(y)\n",
    "        #创建并初始化权重，值为0，长度是特征数量+1多一个w0\n",
    "        self.w_ = np.zeros(1+X.shape[1])\n",
    "        #创建损失列表，用来保存每次迭代后的损失值\n",
    "        self.loss_ = []\n",
    "        for i in range(self.times):\n",
    "            z = np.dot(X,self.w_[1:])+self.w_[0]\n",
    "            #计算概率值（结果判定为1的概率值）\n",
    "            p = self.sigmoid(z)\n",
    "            #根据逻辑回归的代价函数(目标函数)，计算损失值。\n",
    "            #逻辑回归的代价函数(目标函数)：\n",
    "            #J(w) =  -sun(yi*log(s(zi)) + (1-yi)*log(1-s(zi)))[i从1到n，n为样本的数量]\n",
    "            cost = -np.sum(y*np.log(p)+(1-y)*np.log(1-p))\n",
    "            self.loss_.append(cost)\n",
    "            #权重值的调整 根据公式调整为：权重(j列) = 权重(j列)+学习率*sum((y-s(z))*x(j))\n",
    "            self.w_[0] += self.alpha*np.sum((y-p)*1)#其中x0恒为1\n",
    "            self.w_[1:]+= self.alpha*np.dot(X.T,y-p)\n",
    "    def predict_proba(self,X):#预测的概率值\n",
    "            '''根据参数传递的样本，对样本数据进行预测\n",
    "            Parameters \n",
    "            ------\n",
    "            X: 类数组类型，形状为[样本数量，特征数量]\n",
    "                待测试的样本特征属性 \n",
    "            Returns:\n",
    "            -------\n",
    "            result:数组类型 \n",
    "                    预测的结果(概率值)\n",
    "            '''\n",
    "            X = np.asarray(X)\n",
    "            z = np.dot(X,self.w_[1:])+self.w_[0]\n",
    "            p = self.sigmoid(z)#被判定为1的概率值\n",
    "            #q = 1-p #被判定为0的概率值\n",
    "            p = p.reshape(-1,1)#变成二维结构，便于后续拼接\n",
    "            \n",
    "            #将两种概率进行拼接(横向)\n",
    "            \n",
    "            return np.concatenate([1-p,p],axis=1)\n",
    "        \n",
    "    def predict(self,X):\n",
    "        '''根据参数传递的样本对样本数据进行预测。\n",
    "            Parameters \n",
    "            ------\n",
    "            X: 类数组类型，形状为[样本数量，特征数量]\n",
    "                待测试的样本特征属性 \n",
    "            Returns:\n",
    "            -------\n",
    "            result:数组类型 \n",
    "                    预测的结果(属于哪一种，分类值)\n",
    "        '''\n",
    "        \n",
    "        #返回数组中值较大的索引就OK了\n",
    "        return np.argmax(self.predict_proba(X),axis=1)#横向对比，取概率大的\n"
   ]
  },
  {
   "cell_type": "code",
   "execution_count": 68,
   "metadata": {},
   "outputs": [
    {
     "data": {
      "text/plain": [
       "86    True\n",
       "71    True\n",
       "69    True\n",
       "59    True\n",
       "89    True\n",
       "96    True\n",
       "53    True\n",
       "50    True\n",
       "97    True\n",
       "94    True\n",
       "21    True\n",
       "19    True\n",
       "9     True\n",
       "41    True\n",
       "47    True\n",
       "3     True\n",
       "0     True\n",
       "46    True\n",
       "Name: class, dtype: bool"
      ]
     },
     "metadata": {},
     "output_type": "display_data"
    }
   ],
   "source": [
    "t1 = data[data[\"class\"]==0]\n",
    "t2 = data[data[\"class\"]==1]\n",
    "t1 = t1.sample(len(t1),random_state=0)\n",
    "t2 = t2.sample(len(t2),random_state=0)\n",
    "train_X = pd.concat([t1.iloc[:40,:-1],t2.iloc[:40,:-1]],axis=0)#按照纵向进行拼接\n",
    "train_y = pd.concat([t1.iloc[:40,-1],t2.iloc[:40,-1]],axis=0)\n",
    "test_X = pd.concat([t1.iloc[40:,:-1],t2.iloc[40:,:-1]],axis=0)\n",
    "test_y = pd.concat([t1.iloc[40:,-1],t2.iloc[40:,-1]],axis=0)\n",
    "\n",
    "\n",
    "#鸢尾花特征列都在同一数量级，可以不用标准化处理\n",
    "lr = LogisticRegression(alpha=0.0005,times=300)\n",
    "lr.fit(train_X,train_y)\n",
    "result_proba = lr.predict_proba(test_X)\n",
    "result = lr.predict(test_X)\n",
    "display(result==test_y)"
   ]
  },
  {
   "cell_type": "code",
   "execution_count": 69,
   "metadata": {},
   "outputs": [],
   "source": [
    "#可视化展示：\n",
    "import matplotlib as mpl\n",
    "from matplotlib import pyplot as plt\n",
    "#默认情况下不支持中文显示，需要进行设置\n",
    "#设置黑体，支持中文显示\n",
    "mpl.rcParams[\"font.family\"] = \"SimHei\"\n",
    "#在设置中文字体时，能够正常的显示符号\n",
    "mpl.rcParams[\"axes.unicode_minus\"] = False"
   ]
  },
  {
   "cell_type": "code",
   "execution_count": 70,
   "metadata": {},
   "outputs": [
    {
     "data": {
      "image/png": "[encoded data removed]",
      "text/plain": [
       "<Figure size 1440x800 with 1 Axes>"
      ]
     },
     "metadata": {
      "needs_background": "light"
     },
     "output_type": "display_data"
    }
   ],
   "source": [
    "#绘制预测值\n",
    "plt.figure(figsize=(18,10),dpi=80)\n",
    "plt.plot(result,\"ro-\",ms=15,label=\"预测值\")\n",
    "plt.plot(test_y.values,\"go--\",label=\"真实值\")\n",
    "plt.title(\"逻辑回归\")\n",
    "plt.xlabel(\"样本序号\")\n",
    "plt.ylabel(\"类别\")\n",
    "plt.legend()\n",
    "plt.show()"
   ]
  },
  {
   "cell_type": "code",
   "execution_count": 71,
   "metadata": {},
   "outputs": [
    {
     "data": {
      "text/plain": [
       "[<matplotlib.lines.Line2D at 0x2e39952bf60>]"
      ]
     },
     "execution_count": 71,
     "metadata": {},
     "output_type": "execute_result"
    },
    {
     "data": {
      "image/png": "[encoded data removed]",
      "text/plain": [
       "<Figure size 432x288 with 1 Axes>"
      ]
     },
     "metadata": {
      "needs_background": "light"
     },
     "output_type": "display_data"
    }
   ],
   "source": [
    "#绘制目标函数的损失值\n",
    "plt.plot(range(1,lr.times+1),lr.loss_,\"go-\")"
   ]
  },
  {
   "cell_type": "code",
   "execution_count": null,
   "metadata": {},
   "outputs": [],
   "source": []
  }
 ],
 "metadata": {
  "kernelspec": {
   "display_name": "Tensorflow",
   "language": "python",
   "name": "tensorflow"
  },
  "language_info": {
   "codemirror_mode": {
    "name": "ipython",
    "version": 3
   },
   "file_extension": ".py",
   "mimetype": "text/x-python",
   "name": "python",
   "nbconvert_exporter": "python",
   "pygments_lexer": "ipython3",
   "version": "3.6.10"
  }
 },
 "nbformat": 4,
 "nbformat_minor": 4
}
