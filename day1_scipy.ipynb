{
 "cells": [
  {
   "cell_type": "markdown",
   "metadata": {},
   "source": [
    "numpy与scipy的傅里叶使用"
   ]
  },
  {
   "cell_type": "code",
   "execution_count": 7,
   "metadata": {},
   "outputs": [],
   "source": [
    "import scipy as sy\n",
    "import numpy as np\n",
    "from numpy.fft import fft,ifft\n",
    "from PIL import Image"
   ]
  },
  {
   "cell_type": "code",
   "execution_count": 14,
   "metadata": {},
   "outputs": [
    {
     "name": "stdout",
     "output_type": "stream",
     "text": [
      "<PIL.PngImagePlugin.PngImageFile image mode=RGBA size=196x256 at 0x1DBBF2024A8>\n"
     ]
    }
   ],
   "source": [
    "cat = Image.open('C:\\\\Users\\\\向\\\\Desktop\\\\cat.png')\n",
    "print(cat)"
   ]
  },
  {
   "cell_type": "code",
   "execution_count": 15,
   "metadata": {},
   "outputs": [],
   "source": [
    "#转换成int型数据"
   ]
  },
  {
   "cell_type": "code",
   "execution_count": 30,
   "metadata": {},
   "outputs": [
    {
     "data": {
      "text/plain": [
       "array([ -1,  -1,  -1, ..., 117, 117,  -1], dtype=int8)"
      ]
     },
     "execution_count": 30,
     "metadata": {},
     "output_type": "execute_result"
    }
   ],
   "source": [
    "cat_data = np.frombuffer(cat.tobytes(),dtype=np.int8)\n",
    "cat_data#大于128会将其变成复数"
   ]
  },
  {
   "cell_type": "code",
   "execution_count": 31,
   "metadata": {},
   "outputs": [
    {
     "name": "stdout",
     "output_type": "stream",
     "text": [
      "[1557991.             +0.j          283117.82892171+696084.42571259j\n",
      " -106408.01817798+581894.60804732j ... -280578.57610653-111503.29438358j\n",
      " -106408.01817798-581894.60804732j  283117.82892171-696084.42571259j]\n"
     ]
    }
   ],
   "source": [
    "cat_data_fft=fft(cat_data)#傅里叶转换\n",
    "print(cat_data_fft)#将真实数据转换为频域"
   ]
  },
  {
   "cell_type": "code",
   "execution_count": 32,
   "metadata": {},
   "outputs": [],
   "source": [
    "#去掉低频的数据，变成0"
   ]
  },
  {
   "cell_type": "code",
   "execution_count": 33,
   "metadata": {},
   "outputs": [],
   "source": [
    "cat_data_fft=np.where(np.abs(cat_data_fft)<1e5,0,cat_data_fft)#小于1e5的数据置0"
   ]
  },
  {
   "cell_type": "code",
   "execution_count": 34,
   "metadata": {},
   "outputs": [],
   "source": [
    "cat_data_fft[np.where(np.abs(cat_data_fft)<1e5)]=0#与上述的一样"
   ]
  },
  {
   "cell_type": "code",
   "execution_count": 35,
   "metadata": {},
   "outputs": [
    {
     "data": {
      "text/plain": [
       "array([-18.08657279-5.19425772e-16j, -17.29341292+2.74893487e-15j,\n",
       "       -17.53985353-5.34096576e-15j, ..., -10.11897027-4.93883881e-15j,\n",
       "       -11.74740475-1.40743481e-15j, -11.72989046+1.25689043e-15j])"
      ]
     },
     "execution_count": 35,
     "metadata": {},
     "output_type": "execute_result"
    }
   ],
   "source": [
    "#傅里叶反转\n",
    "cat_data_ifft=ifft(cat_data_fft)\n",
    "cat_data_ifft"
   ]
  },
  {
   "cell_type": "code",
   "execution_count": 52,
   "metadata": {},
   "outputs": [
    {
     "name": "stdout",
     "output_type": "stream",
     "text": [
      "[-18 -17 -17 ... -10 -11 -11]\n"
     ]
    }
   ],
   "source": [
    "cat_data_real=np.real(cat_data_ifft)#只获取实数部分\n",
    "cat_data_result = np.int8(cat_data_real)#去掉小数部分\n",
    "print(cat_data_result)"
   ]
  },
  {
   "cell_type": "code",
   "execution_count": 53,
   "metadata": {},
   "outputs": [],
   "source": [
    "cat_image = Image.frombytes(size = cat.size,mode = cat.mode,data = cat_data_result)"
   ]
  },
  {
   "cell_type": "code",
   "execution_count": 54,
   "metadata": {},
   "outputs": [],
   "source": [
    "cat_image.show()"
   ]
  },
  {
   "cell_type": "code",
   "execution_count": null,
   "metadata": {},
   "outputs": [],
   "source": []
  }
 ],
 "metadata": {
  "kernelspec": {
   "display_name": "Tensorflow",
   "language": "python",
   "name": "tensorflow"
  },
  "language_info": {
   "codemirror_mode": {
    "name": "ipython",
    "version": 3
   },
   "file_extension": ".py",
   "mimetype": "text/x-python",
   "name": "python",
   "nbconvert_exporter": "python",
   "pygments_lexer": "ipython3",
   "version": "3.6.10"
  }
 },
 "nbformat": 4,
 "nbformat_minor": 4
}
