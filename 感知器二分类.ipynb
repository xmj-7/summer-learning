{
 "cells": [
  {
   "cell_type": "code",
   "execution_count": 1,
   "metadata": {},
   "outputs": [],
   "source": [
    "#感知器是一个二分类器其净输入为z = W.T*X，\n",
    "#通过激活函数可以将z映射为1(z>=θ)或-1(z<θ)\n",
    "import numpy as np \n",
    "import pandas as pd "
   ]
  },
  {
   "cell_type": "code",
   "execution_count": 12,
   "metadata": {},
   "outputs": [
    {
     "data": {
      "text/html": [
       "<div>\n",
       "<style scoped>\n",
       "    .dataframe tbody tr th:only-of-type {\n",
       "        vertical-align: middle;\n",
       "    }\n",
       "\n",
       "    .dataframe tbody tr th {\n",
       "        vertical-align: top;\n",
       "    }\n",
       "\n",
       "    .dataframe thead th {\n",
       "        text-align: right;\n",
       "    }\n",
       "</style>\n",
       "<table border=\"1\" class=\"dataframe\">\n",
       "  <thead>\n",
       "    <tr style=\"text-align: right;\">\n",
       "      <th></th>\n",
       "      <th>sepallength</th>\n",
       "      <th>sepalwidth</th>\n",
       "      <th>petallength</th>\n",
       "      <th>petalwidth</th>\n",
       "      <th>class</th>\n",
       "    </tr>\n",
       "  </thead>\n",
       "  <tbody>\n",
       "    <tr>\n",
       "      <th>0</th>\n",
       "      <td>5.1</td>\n",
       "      <td>3.5</td>\n",
       "      <td>1.4</td>\n",
       "      <td>0.2</td>\n",
       "      <td>-1</td>\n",
       "    </tr>\n",
       "    <tr>\n",
       "      <th>1</th>\n",
       "      <td>4.9</td>\n",
       "      <td>3.0</td>\n",
       "      <td>1.4</td>\n",
       "      <td>0.2</td>\n",
       "      <td>-1</td>\n",
       "    </tr>\n",
       "    <tr>\n",
       "      <th>2</th>\n",
       "      <td>4.7</td>\n",
       "      <td>3.2</td>\n",
       "      <td>1.3</td>\n",
       "      <td>0.2</td>\n",
       "      <td>-1</td>\n",
       "    </tr>\n",
       "    <tr>\n",
       "      <th>3</th>\n",
       "      <td>4.6</td>\n",
       "      <td>3.1</td>\n",
       "      <td>1.5</td>\n",
       "      <td>0.2</td>\n",
       "      <td>-1</td>\n",
       "    </tr>\n",
       "    <tr>\n",
       "      <th>4</th>\n",
       "      <td>5.0</td>\n",
       "      <td>3.6</td>\n",
       "      <td>1.4</td>\n",
       "      <td>0.2</td>\n",
       "      <td>-1</td>\n",
       "    </tr>\n",
       "    <tr>\n",
       "      <th>...</th>\n",
       "      <td>...</td>\n",
       "      <td>...</td>\n",
       "      <td>...</td>\n",
       "      <td>...</td>\n",
       "      <td>...</td>\n",
       "    </tr>\n",
       "    <tr>\n",
       "      <th>145</th>\n",
       "      <td>6.7</td>\n",
       "      <td>3.0</td>\n",
       "      <td>5.2</td>\n",
       "      <td>2.3</td>\n",
       "      <td>1</td>\n",
       "    </tr>\n",
       "    <tr>\n",
       "      <th>146</th>\n",
       "      <td>6.3</td>\n",
       "      <td>2.5</td>\n",
       "      <td>5.0</td>\n",
       "      <td>1.9</td>\n",
       "      <td>1</td>\n",
       "    </tr>\n",
       "    <tr>\n",
       "      <th>147</th>\n",
       "      <td>6.5</td>\n",
       "      <td>3.0</td>\n",
       "      <td>5.2</td>\n",
       "      <td>2.0</td>\n",
       "      <td>1</td>\n",
       "    </tr>\n",
       "    <tr>\n",
       "      <th>148</th>\n",
       "      <td>6.2</td>\n",
       "      <td>3.4</td>\n",
       "      <td>5.4</td>\n",
       "      <td>2.3</td>\n",
       "      <td>1</td>\n",
       "    </tr>\n",
       "    <tr>\n",
       "      <th>149</th>\n",
       "      <td>5.9</td>\n",
       "      <td>3.0</td>\n",
       "      <td>5.1</td>\n",
       "      <td>1.8</td>\n",
       "      <td>1</td>\n",
       "    </tr>\n",
       "  </tbody>\n",
       "</table>\n",
       "<p>97 rows × 5 columns</p>\n",
       "</div>"
      ],
      "text/plain": [
       "     sepallength  sepalwidth  petallength  petalwidth  class\n",
       "0            5.1         3.5          1.4         0.2     -1\n",
       "1            4.9         3.0          1.4         0.2     -1\n",
       "2            4.7         3.2          1.3         0.2     -1\n",
       "3            4.6         3.1          1.5         0.2     -1\n",
       "4            5.0         3.6          1.4         0.2     -1\n",
       "..           ...         ...          ...         ...    ...\n",
       "145          6.7         3.0          5.2         2.3      1\n",
       "146          6.3         2.5          5.0         1.9      1\n",
       "147          6.5         3.0          5.2         2.0      1\n",
       "148          6.2         3.4          5.4         2.3      1\n",
       "149          5.9         3.0          5.1         1.8      1\n",
       "\n",
       "[97 rows x 5 columns]"
      ]
     },
     "execution_count": 12,
     "metadata": {},
     "output_type": "execute_result"
    }
   ],
   "source": [
    "data = pd.read_csv(r\"iris.csv\")\n",
    "data.drop(\"id\",axis=1,inplace=True)\n",
    "data.drop_duplicates(inplace=True)\n",
    "#之所以映射为1与-1而不是之前的0,1,2，是因为感知器的预测结果为1，-1\n",
    "#目的是为了与感知器预测的结果相符\n",
    "data[\"class\"] = data[\"class\"].map({\"Iris-versicolor\":0,\"Iris-virginica\":1,\"Iris-setosa\":-1})\n",
    "# data[\"class\"].value_counts()\n",
    "data = data[data[\"class\"]!=0]\n",
    "data"
   ]
  },
  {
   "cell_type": "code",
   "execution_count": 21,
   "metadata": {},
   "outputs": [],
   "source": [
    "class Perception:\n",
    "    '''使用python语言实现感知器算法，实现二分类'''\n",
    "    def __init__(self,alpha,times):\n",
    "        '''初始化方法。 \n",
    "        Parameters\n",
    "        ----- \n",
    "        alpha:float \n",
    "            学习率 \n",
    "        times :int \n",
    "            最大迭代次数 \n",
    "        '''\n",
    "        self.alpha = alpha\n",
    "        self.times = times\n",
    "    def step(self,z):#阶跃函数，类似于逻辑回归中的sigmoid函数，但是更加简单\n",
    "        '''阶跃函数 \n",
    "        Parameters\n",
    "        ----- \n",
    "        z: 数组类型 (或者是标量类型)\n",
    "            阶跃函数的参数，可以根据z得值，返回1或者-1，(这样可以实现去二分类)\n",
    "        Returns\n",
    "        -----\n",
    "        value: int\n",
    "            如果z>=0返回1，否则返回-1 \n",
    "        '''\n",
    "        \n",
    "#        return 1 if z>=0 else 0\n",
    "        return np.where(z>=0,1,-1)#如果z>=0返回1，否则返回-1，其中z是标量或者数组都行，np.where能个矢量化的实现\n",
    "    def fit(self,X,y):\n",
    "        '''根据提供的训练数据，对模型进行训练。 \n",
    "        Parameters： \n",
    "        ---- \n",
    "        X: 类数组类型， 形状: [样本数量，特征数量]\n",
    "            待训练的样本数据 \n",
    "        y: 类数组类型，形状: [样本数量]\n",
    "            每个样本的目标值。(分类)\n",
    "        '''\n",
    "        \n",
    "        X = np.asarray(X)\n",
    "        y = np.asarray(y)\n",
    "        #创建权重的向量，初始值为0.(多出来的一个是截距w0)\n",
    "        self.w_ = np.zeros(X.shape[1]+1)\n",
    "        #创建损失列表，用来保存每次迭代后的损失值\n",
    "        self.lose_ = []\n",
    "        #循环指定的次数。\n",
    "        for i in range(self.times):\n",
    "            #感知器与逻辑回归的区别：逻辑回归中，使用所有样本计算梯度，然后更新权重\n",
    "            #而感知器中，是使用单个样本，依次进行计算梯度，更新权重\n",
    "            lose = 0#记录每个样本产生的损失值\n",
    "            for x ,target in zip(X,y):\n",
    "                #计算预测值\n",
    "                y_hat = self.step(np.dot(x,self.w_[1:])+self.w_[0])\n",
    "                lose+=y_hat!=target#当预测值与真实值不同，loss+1\n",
    "                #更新权重\n",
    "                #更新公式：w(j) = w(j)+学习率*(真实值-预测值)*x(j)\n",
    "                self.w_[0]+=self.alpha*(target-y_hat)*1\n",
    "                self.w_[1:]+=self.alpha*(target-y_hat)*x\n",
    "            #将循环中累计的误差值增加到误差列表中\n",
    "            self.lose_.append(lose)\n",
    "    def predict(self,X):\n",
    "        '''根据参数传递的样本，对样本数据进行预测(1,-1)\n",
    "        Parameters： \n",
    "        ---- \n",
    "        X: 类数组类型， 形状: [样本数量，特征数量]\n",
    "            待预测的样本数据 \n",
    "        Returns \n",
    "        ----\n",
    "        result:数组类型 \n",
    "            预测的结果值(1,-1)\n",
    "        '''\n",
    "\n",
    "        return self.step(np.dot(X,self.w_[1:])+self.w_[0])"
   ]
  },
  {
   "cell_type": "code",
   "execution_count": 25,
   "metadata": {},
   "outputs": [
    {
     "data": {
      "text/plain": [
       "array([ 1,  1,  1,  1,  1,  1,  1,  1,  1, -1, -1, -1, -1, -1, -1, -1, -1])"
      ]
     },
     "metadata": {},
     "output_type": "display_data"
    },
    {
     "data": {
      "text/plain": [
       "array([ 1,  1,  1,  1,  1,  1,  1,  1,  1, -1, -1, -1, -1, -1, -1, -1, -1],\n",
       "      dtype=int64)"
      ]
     },
     "metadata": {},
     "output_type": "display_data"
    },
    {
     "data": {
      "text/plain": [
       "[1, 2, 3, 2, 0, 0, 0, 0, 0, 0, 0, 0, 0, 0, 0, 0, 0, 0, 0, 0]"
      ]
     },
     "metadata": {},
     "output_type": "display_data"
    }
   ],
   "source": [
    "t1 = data[data[\"class\"]==1]\n",
    "t2 = data[data[\"class\"]==-1]\n",
    "t1 = t1.sample(len(t1),random_state=0)\n",
    "t2 = t2.sample(len(t2),random_state=0)\n",
    "train_X = pd.concat([t1.iloc[:40,:-1],t2.iloc[:40,:-1]],axis=0)#竖向连接\n",
    "train_y = pd.concat([t1.iloc[:40,-1],t2.iloc[:40,-1]],axis=0)#竖向连接\n",
    "test_X = pd.concat([t1.iloc[40:,:-1],t2.iloc[40:,:-1]],axis=0)#竖向连接\n",
    "test_y = pd.concat([t1.iloc[40:,-1],t2.iloc[40:,-1]],axis=0)#竖向连接\n",
    "p = Perception(0.005,20)\n",
    "p.fit(train_X,train_y)\n",
    "result = p.predict(test_X)\n",
    "display(result)\n",
    "display(test_y.values)\n",
    "display(p.lose_)"
   ]
  },
  {
   "cell_type": "code",
   "execution_count": 26,
   "metadata": {},
   "outputs": [],
   "source": [
    "#可视化展示：\n",
    "import matplotlib as mpl\n",
    "from matplotlib import pyplot as plt\n",
    "#默认情况下不支持中文显示，需要进行设置\n",
    "#设置黑体，支持中文显示\n",
    "mpl.rcParams[\"font.family\"] = \"SimHei\"\n",
    "#在设置中文字体时，能够正常的显示符号\n",
    "mpl.rcParams[\"axes.unicode_minus\"] = False"
   ]
  },
  {
   "cell_type": "code",
   "execution_count": 27,
   "metadata": {},
   "outputs": [
    {
     "data": {
      "image/png": "[encoded data removed]",
      "text/plain": [
       "<Figure size 432x288 with 1 Axes>"
      ]
     },
     "metadata": {
      "needs_background": "light"
     },
     "output_type": "display_data"
    }
   ],
   "source": [
    "#绘制真实值\n",
    "plt.plot(test_y.values,\"go\",ms=15,label=\"真实值\")\n",
    "plt.plot(result,\"rx\",ms=15,label=\"预测值\")\n",
    "plt.title(\"感知器二分类\")\n",
    "plt.xlabel(\"样本序号\")\n",
    "plt.ylabel(\"类别\")\n",
    "plt.legend()\n",
    "plt.show()"
   ]
  },
  {
   "cell_type": "code",
   "execution_count": 28,
   "metadata": {},
   "outputs": [
    {
     "data": {
      "image/png": "[encoded data removed]",
      "text/plain": [
       "<Figure size 432x288 with 1 Axes>"
      ]
     },
     "metadata": {
      "needs_background": "light"
     },
     "output_type": "display_data"
    }
   ],
   "source": [
    "#绘制目标函数的损失值：\n",
    "plt.plot(range(1,p.times+1),p.lose_,\"ro-\")\n",
    "plt.show()"
   ]
  },
  {
   "cell_type": "code",
   "execution_count": null,
   "metadata": {},
   "outputs": [],
   "source": []
  }
 ],
 "metadata": {
  "kernelspec": {
   "display_name": "Tensorflow",
   "language": "python",
   "name": "tensorflow"
  },
  "language_info": {
   "codemirror_mode": {
    "name": "ipython",
    "version": 3
   },
   "file_extension": ".py",
   "mimetype": "text/x-python",
   "name": "python",
   "nbconvert_exporter": "python",
   "pygments_lexer": "ipython3",
   "version": "3.6.10"
  }
 },
 "nbformat": 4,
 "nbformat_minor": 4
}
